{
  "nbformat": 4,
  "nbformat_minor": 0,
  "metadata": {
    "colab": {
      "provenance": [],
      "authorship_tag": "ABX9TyPJncRWW7D3kZT1YTzsd527",
      "include_colab_link": true
    },
    "kernelspec": {
      "name": "python3",
      "display_name": "Python 3"
    },
    "language_info": {
      "name": "python"
    }
  },
  "cells": [
    {
      "cell_type": "markdown",
      "metadata": {
        "id": "view-in-github",
        "colab_type": "text"
      },
      "source": [
        "<a href=\"https://colab.research.google.com/github/manudeepsinha/daily_commit/blob/main/CreatingLogFiles.ipynb\" target=\"_parent\"><img src=\"https://colab.research.google.com/assets/colab-badge.svg\" alt=\"Open In Colab\"/></a>"
      ]
    },
    {
      "cell_type": "code",
      "source": [
        "import os\n",
        "from datetime import datetime\n",
        "\n",
        "# Function to log messages\n",
        "def log_message(message):\n",
        "    # Get the current date and format it as YYYY-MM-DD\n",
        "    current_date = datetime.now().strftime(\"%Y-%m-%d\")\n",
        "\n",
        "    # Define the file name with the current date and the \".log\" extension\n",
        "    log_file_name = f\"{current_date}.log\"\n",
        "\n",
        "    # Get the current working directory\n",
        "    current_directory = os.getcwd()\n",
        "\n",
        "    # Full path to the log file\n",
        "    log_file_path = os.path.join(current_directory, log_file_name)\n",
        "\n",
        "    # For your reference as to where the logs are being generated -> !!!delete for production code!!!\n",
        "    print(log_file_path)\n",
        "\n",
        "    # Check if the log file already exists\n",
        "    if os.path.exists(log_file_path):\n",
        "        # Open the file in append mode\n",
        "        with open(log_file_path, \"a\") as log_file:\n",
        "            log_file.write(message + \"\\n\")\n",
        "    else:\n",
        "        # Create a new file and write the log message\n",
        "        with open(log_file_path, \"w\") as log_file:\n",
        "            log_file.write(message + \"\\n\")\n",
        "\n",
        "# Example usages\n",
        "log_message(\"This is a log message from the main file.\")\n",
        "log_message(\"Another log message from the main file.\")"
      ],
      "metadata": {
        "id": "qGuT3fQJltog",
        "colab": {
          "base_uri": "https://localhost:8080/"
        },
        "outputId": "554afdf2-00c8-44a5-f5d3-6865ae1c52e7"
      },
      "execution_count": 1,
      "outputs": [
        {
          "output_type": "stream",
          "name": "stdout",
          "text": [
            "/content/2024-09-05.log\n",
            "/content/2024-09-05.log\n"
          ]
        }
      ]
    }
  ]
}